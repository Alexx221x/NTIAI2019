{
  "nbformat": 4,
  "nbformat_minor": 0,
  "metadata": {
    "colab": {
      "name": "modelainti2019.ipynb\"",
      "provenance": [],
      "machine_shape": "hm"
    },
    "kernelspec": {
      "name": "python3",
      "display_name": "Python 3"
    },
    "accelerator": "GPU"
  },
  "cells": [
    {
      "cell_type": "code",
      "metadata": {
        "id": "X-dVQmmdXvTB"
      },
      "source": [
        "!pip install tsfresh\n",
        "!pip install shap\n",
        "!pip install catboost"
      ],
      "execution_count": null,
      "outputs": []
    },
    {
      "cell_type": "code",
      "metadata": {
        "id": "4zVOFqw-X0mI"
      },
      "source": [
        "import pandas as pd\n",
        "import xgboost as xgb\n",
        "import numpy as np\n",
        "import matplotlib.pyplot as plt\n",
        "import seaborn as sns\n",
        "import re\n",
        "\n",
        "from sklearn.model_selection import train_test_split\n",
        "from catboost import CatBoostClassifier, Pool\n",
        "from collections import Counter\n",
        "from tqdm import tqdm\n",
        "from sklearn.cluster import KMeans\n",
        "import warnings\n",
        "warnings.filterwarnings('ignore')\n",
        "import scipy.fftpack\n",
        "\n",
        "import catboost\n",
        "from hyperopt import fmin, tpe, STATUS_OK, STATUS_FAIL, Trials\n",
        "from sklearn.model_selection import cross_val_score\n",
        "from hyperopt import fmin, tpe, hp\n",
        "\n",
        "import lightgbm as lgb\n",
        "from hyperopt import fmin, tpe, STATUS_OK, STATUS_FAIL, Trials\n",
        "from sklearn.model_selection import cross_val_score\n"
      ],
      "execution_count": null,
      "outputs": []
    },
    {
      "cell_type": "code",
      "metadata": {
        "id": "FwofMQ97X-tg"
      },
      "source": [
        "!wget https://onti-2019.s3-eu-central-1.amazonaws.com/public/data_v1.zip\n",
        "!unzip data_v1.zip"
      ],
      "execution_count": null,
      "outputs": []
    },
    {
      "cell_type": "code",
      "metadata": {
        "id": "R3FCN70yYBEw"
      },
      "source": [
        "transactions_train=pd.read_csv('data/transactions_train.csv')\n",
        "transactions_test=pd.read_csv('data/transactions_test.csv')"
      ],
      "execution_count": null,
      "outputs": []
    },
    {
      "cell_type": "code",
      "metadata": {
        "id": "sXejmRuSYFdx"
      },
      "source": [
        "transactions = transactions_train.append(transactions_test)"
      ],
      "execution_count": null,
      "outputs": []
    },
    {
      "cell_type": "code",
      "metadata": {
        "id": "_yARGRpYZmG7"
      },
      "source": [
        "transactions['amount_rur'] = np.log(transactions['amount_rur'])"
      ],
      "execution_count": null,
      "outputs": []
    },
    {
      "cell_type": "code",
      "metadata": {
        "id": "mtN-9ItfYIxS"
      },
      "source": [
        "params = ['mean', 'sum', 'count', 'median', 'std', 'min', 'max', lambda x: x.max() - x.min()]"
      ],
      "execution_count": null,
      "outputs": []
    },
    {
      "cell_type": "code",
      "metadata": {
        "id": "bX8cO38ZYQHl"
      },
      "source": [
        "main_fea= transactions.groupby('client_id')['amount_rur'].agg(params)\n",
        "main_fea.columns =  ['main_fea_' + str(i) for i in main_fea.columns]"
      ],
      "execution_count": null,
      "outputs": []
    },
    {
      "cell_type": "code",
      "metadata": {
        "id": "1H_HJe9tYR0t"
      },
      "source": [
        "temp = transactions.groupby(['client_id', 'small_group'])['amount_rur'].agg(params)\n",
        "\n",
        "temp2 = pd.DataFrame()\n",
        "for col in temp.columns:\n",
        "  temp2 = pd.concat([temp2, temp.reset_index().pivot(index='client_id', columns='small_group', values=col)], axis=1)\n",
        "\n",
        "temp2 = temp2.fillna(0)\n",
        "\n",
        "temp2.columns = ['sm_fea_' + str(i) for i in temp2.columns]\n",
        "\n",
        "main_fea = pd.merge(main_fea, temp2, on='client_id', how='outer')"
      ],
      "execution_count": null,
      "outputs": []
    },
    {
      "cell_type": "code",
      "metadata": {
        "id": "1F07wE24I3iu"
      },
      "source": [
        "from google.colab import drive\n",
        "drive.mount('/content/drive')"
      ],
      "execution_count": null,
      "outputs": []
    },
    {
      "cell_type": "code",
      "metadata": {
        "id": "zgdudUsSLA-y",
        "colab": {
          "base_uri": "https://localhost:8080/",
          "height": 34
        },
        "outputId": "15cfed07-18a3-4753-f36e-bdff43f0a2e8"
      },
      "source": [
        "cd '/content/drive/My Drive/'"
      ],
      "execution_count": null,
      "outputs": [
        {
          "output_type": "stream",
          "text": [
            "/content/drive/My Drive\n"
          ],
          "name": "stdout"
        }
      ]
    },
    {
      "cell_type": "code",
      "metadata": {
        "id": "I_KETC6LLHD9"
      },
      "source": [
        "temp = pd.read_csv('data_ntiai.csv')"
      ],
      "execution_count": null,
      "outputs": []
    },
    {
      "cell_type": "code",
      "metadata": {
        "id": "7gRAIx8emtOg",
        "colab": {
          "base_uri": "https://localhost:8080/",
          "height": 34
        },
        "outputId": "a574f44a-58bb-48d4-bc8e-a76a32fd7d44"
      },
      "source": [
        "temp.shape"
      ],
      "execution_count": null,
      "outputs": [
        {
          "output_type": "execute_result",
          "data": {
            "text/plain": [
              "(50000, 749)"
            ]
          },
          "metadata": {
            "tags": []
          },
          "execution_count": 20
        }
      ]
    },
    {
      "cell_type": "code",
      "metadata": {
        "id": "sS2lEPZDnwOV"
      },
      "source": [
        "temp = temp[['amount_rur__agg_linear_trend__f_agg_\"min\"__chunk_len_10__attr_\"intercept\"',\n",
        "       'amount_rur__agg_linear_trend__f_agg_\"min\"__chunk_len_50__attr_\"intercept\"',\n",
        "       'amount_rur__agg_linear_trend__f_agg_\"min\"__chunk_len_5__attr_\"intercept\"',\n",
        "       'amount_rur__change_quantiles__f_agg_\"mean\"__isabs_True__qh_0.8__ql_0.0',\n",
        "       'amount_rur__change_quantiles__f_agg_\"mean\"__isabs_True__qh_0.8__ql_0.4',\n",
        "       'amount_rur__change_quantiles__f_agg_\"var\"__isabs_True__qh_0.6__ql_0.2',\n",
        "       'amount_rur__change_quantiles__f_agg_\"var\"__isabs_True__qh_0.8__ql_0.2',\n",
        "       'amount_rur__change_quantiles__f_agg_\"var\"__isabs_True__qh_0.8__ql_0.4',\n",
        "       'amount_rur__index_mass_quantile__q_0.2',\n",
        "       'amount_rur__longest_strike_below_mean', 'amount_rur__median',\n",
        "       'amount_rur__minimum', 'amount_rur__number_crossing_m__m_1',\n",
        "       'amount_rur__percentage_of_reoccurring_datapoints_to_all_datapoints',\n",
        "       'amount_rur__quantile__q_0.1', 'amount_rur__quantile__q_0.6',\n",
        "       'amount_rur__quantile__q_0.7', 'amount_rur__quantile__q_0.8',\n",
        "       'amount_rur__range_count__max_1__min_-1',\n",
        "       'amount_rur__ratio_value_number_to_time_series_length',\n",
        "       'amount_rur__sum_of_reoccurring_data_points',\n",
        "       'amount_rur__sum_of_reoccurring_values']]"
      ],
      "execution_count": null,
      "outputs": []
    },
    {
      "cell_type": "code",
      "metadata": {
        "id": "UcXWi_4oql9Z"
      },
      "source": [
        "temp.index = main_fea.index"
      ],
      "execution_count": null,
      "outputs": []
    },
    {
      "cell_type": "code",
      "metadata": {
        "id": "w7OAxnEpqgWP"
      },
      "source": [
        "main_fea = pd.merge(main_fea, temp, on='client_id', how='outer')"
      ],
      "execution_count": null,
      "outputs": []
    },
    {
      "cell_type": "code",
      "metadata": {
        "id": "CRiAi9SeYZGY"
      },
      "source": [
        "main_fea = main_fea.fillna(0)"
      ],
      "execution_count": null,
      "outputs": []
    },
    {
      "cell_type": "code",
      "metadata": {
        "id": "EP02Cow9YhQd"
      },
      "source": [
        "from sklearn.preprocessing import StandardScaler\n",
        "ind = main_fea.index\n",
        "min_max_scaler = StandardScaler()\n",
        "main_fea_s = min_max_scaler.fit_transform(main_fea.values)\n",
        "main_fea_s = pd.DataFrame(main_fea_s)\n",
        "main_fea_s.index = ind"
      ],
      "execution_count": null,
      "outputs": []
    },
    {
      "cell_type": "code",
      "metadata": {
        "id": "Cyjrt5cWYiev"
      },
      "source": [
        "main_fea_s.columns = ['f' + str(i) for i in range(len(main_fea_s.columns))]"
      ],
      "execution_count": null,
      "outputs": []
    },
    {
      "cell_type": "code",
      "metadata": {
        "id": "7ykznHDYYkLf"
      },
      "source": [
        "train_target = pd.read_csv('/content/data/train_target.csv')\n",
        "TRAIN = main_fea_s.iloc[train_target['client_id']]\n",
        "TEST = main_fea_s.iloc[list(set(main_fea_s.index.values) - set(train_target['client_id']))]"
      ],
      "execution_count": null,
      "outputs": []
    },
    {
      "cell_type": "code",
      "metadata": {
        "id": "ZldM9lZrYsJN"
      },
      "source": [
        "y=train_target['bins']\n",
        "X=TRAIN"
      ],
      "execution_count": null,
      "outputs": []
    },
    {
      "cell_type": "code",
      "metadata": {
        "id": "-CJmCr3Ba2vw"
      },
      "source": [
        "from hyperopt.pyll.base import scope\n",
        "@scope.define\n",
        "def to_int(x):\n",
        "    return int(x)"
      ],
      "execution_count": null,
      "outputs": []
    },
    {
      "cell_type": "code",
      "metadata": {
        "id": "rdKM9uSNY1qX"
      },
      "source": [
        "ctb_params = {\n",
        "    'learning_rate': hp.uniform('learning_rate', 0.005, 0.06),\n",
        "    'max_depth': scope.to_int(hp.quniform('max_depth', 2, 10, 1)),\n",
        "    'l2_leaf_reg': hp.uniform('l2_leaf_reg', 2, 6),\n",
        "    'num_trees': scope.to_int(hp.quniform('num_trees', 2000, 15000, 1)),\n",
        "    'bagging_temperature': hp.uniform('bagging_temperature', 0, 2),\n",
        "    'random_strength': hp.uniform('random_strength', 0, 2),\n",
        "\n",
        "    'eval_metric': 'Accuracy',\n",
        "    'loss_function': 'MultiClass', \n",
        "    'task_type': 'GPU', \n",
        "    'thread_count': -1, \n",
        "    'verbose': False,\n",
        "}\n"
      ],
      "execution_count": null,
      "outputs": []
    },
    {
      "cell_type": "code",
      "metadata": {
        "id": "h-2SkBKrY6qC"
      },
      "source": [
        "import numpy as np\n",
        "from sklearn.model_selection import KFold\n",
        "from sklearn.metrics import accuracy_score\n",
        "\n",
        "kf = KFold(n_splits=5, shuffle=True, random_state=2017)\n",
        "xx = X.values"
      ],
      "execution_count": null,
      "outputs": []
    },
    {
      "cell_type": "code",
      "metadata": {
        "id": "ob_mRcskZMwg"
      },
      "source": [
        "class HPOpt(object):\n",
        "    def __init__(self, xx, y):\n",
        "        self.xx = xx\n",
        "        self.y = y\n",
        "\n",
        "    def process(self, params, algo, max_evals, trials):\n",
        "        try:\n",
        "            result = fmin(fn=self.train_reg, space=params, algo=algo, max_evals=max_evals, trials=trials)\n",
        "        except Exception as e:\n",
        "            print(e)\n",
        "            return {'status': STATUS_FAIL,\n",
        "                    'exception': str(e)}\n",
        "        return result, trials\n",
        "\n",
        "    def train_reg(self, params):\n",
        "      scores = []\n",
        "      modelsm = []\n",
        "\n",
        "      print(params)\n",
        "\n",
        "      for train_index, test_index in kf.split(xx):\n",
        "        X_train, X_test = xx[train_index], xx[test_index]\n",
        "        y_train, y_test = y[train_index], y[test_index]\n",
        "\n",
        "        model = CatBoostClassifier(**params)\n",
        "        model.fit(X_train, y_train)\n",
        "        y_pred = model.predict(X_test)\n",
        "        res = accuracy_score(y_test, y_pred)\n",
        "\n",
        "        print(res)\n",
        "\n",
        "        scores.append(res)\n",
        "        modelsm.append(model)\n",
        "\n",
        "      score_m = sum(scores)/len(scores)\n",
        "      print(score_m)\n",
        "\n",
        "      return {'loss': 1-score_m, 'status': STATUS_OK}"
      ],
      "execution_count": null,
      "outputs": []
    },
    {
      "cell_type": "code",
      "metadata": {
        "id": "K9BZBGRsZWjG"
      },
      "source": [
        "obj = HPOpt(xx, y)\n",
        "lgb_opt = obj.process(params=ctb_params, algo=tpe.suggest, max_evals=50000, trials=Trials())"
      ],
      "execution_count": null,
      "outputs": []
    },
    {
      "cell_type": "code",
      "metadata": {
        "id": "1-C-e8f4mAgC"
      },
      "source": [
        "best_params = {'bagging_temperature': 1.822557323737978, 'eval_metric': 'Accuracy', 'l2_leaf_reg': 4.59752078934112, 'learning_rate': 0.021125893198394825, 'loss_function': 'MultiClass', 'max_depth': 6, 'num_trees': 9553, 'random_strength': 0.2522752957559110, 'task_type': 'GPU', 'thread_count': -1, 'verbose': False, }"
      ],
      "execution_count": null,
      "outputs": []
    },
    {
      "cell_type": "code",
      "metadata": {
        "id": "VQ18eKBHmNkt"
      },
      "source": [
        "scores = []\n",
        "modelsm = []\n",
        "\n",
        "for train_index, test_index in kf.split(xx):\n",
        "  X_train, X_test = xx[train_index], xx[test_index]\n",
        "  y_train, y_test = y[train_index], y[test_index]\n",
        "\n",
        "  model = CatBoostClassifier(**best_params)\n",
        "  model.fit(X_train, y_train)\n",
        "  y_pred = model.predict(X_test)\n",
        "  res = accuracy_score(y_test, y_pred)\n",
        "\n",
        "  print(res)\n",
        "\n",
        "  scores.append(res)\n",
        "  modelsm.append(model)\n",
        "\n",
        "score_m = sum(scores)/len(scores)\n",
        "print(score_m)"
      ],
      "execution_count": null,
      "outputs": []
    },
    {
      "cell_type": "code",
      "metadata": {
        "id": "TGjY9tOeVict"
      },
      "source": [
        "best_params = {'bagging_temperature': 1.822557323737977, 'eval_metric': 'Accuracy', 'l2_leaf_reg': 4.59752078934111, 'learning_rate': 0.021125893198394825, 'loss_function': 'MultiClass', 'max_depth': 6, 'num_trees': 9553, 'random_strength': 0.2522752957559109, 'task_type': 'GPU', 'thread_count': -1, 'verbose': False, }"
      ],
      "execution_count": null,
      "outputs": []
    },
    {
      "cell_type": "code",
      "metadata": {
        "id": "3IWgounDZm0f"
      },
      "source": [
        "model = CatBoostClassifier(**best_params)\n",
        "model.fit(X, y)"
      ],
      "execution_count": null,
      "outputs": []
    },
    {
      "cell_type": "code",
      "metadata": {
        "id": "KCbcMQ4vZzfo"
      },
      "source": [
        "y_pred = model.predict(TEST)"
      ],
      "execution_count": null,
      "outputs": []
    },
    {
      "cell_type": "code",
      "metadata": {
        "id": "aX3pNmvLpHyK",
        "colab": {
          "base_uri": "https://localhost:8080/",
          "height": 34
        },
        "outputId": "d9f00988-614b-4787-b49a-e114574eb92c"
      },
      "source": [
        "y_pred.shape"
      ],
      "execution_count": null,
      "outputs": [
        {
          "output_type": "execute_result",
          "data": {
            "text/plain": [
              "(20000, 1)"
            ]
          },
          "metadata": {
            "tags": []
          },
          "execution_count": 91
        }
      ]
    },
    {
      "cell_type": "code",
      "metadata": {
        "id": "BjykyRjapb8L"
      },
      "source": [
        "sub = pd.DataFrame(y_pred, columns=['bins'])\n",
        "sub.index = TEST.index\n",
        "\n",
        "submission = sub"
      ],
      "execution_count": null,
      "outputs": []
    },
    {
      "cell_type": "code",
      "metadata": {
        "id": "s-bEbYx4p9Mr",
        "colab": {
          "base_uri": "https://localhost:8080/",
          "height": 34
        },
        "outputId": "5d3e1133-19bd-4ed7-bd7d-f07406c8cc17"
      },
      "source": [
        "y_pred[0]"
      ],
      "execution_count": null,
      "outputs": [
        {
          "output_type": "execute_result",
          "data": {
            "text/plain": [
              "2.0"
            ]
          },
          "metadata": {
            "tags": []
          },
          "execution_count": 83
        }
      ]
    },
    {
      "cell_type": "code",
      "metadata": {
        "id": "R7CRSbItZxwu"
      },
      "source": [
        "submission = pd.DataFrame({'bins': y_pred},index=TEST.index)\n",
        "submission"
      ],
      "execution_count": null,
      "outputs": []
    },
    {
      "cell_type": "code",
      "metadata": {
        "id": "1GBbGJMzZ1K8"
      },
      "source": [
        "import time\n",
        "import os\n",
        "\n",
        "current_timestamp = int(time.time())\n",
        "submission_path = 'submissions/{}.csv'.format(current_timestamp)\n",
        "\n",
        "if not os.path.exists('submissions'):\n",
        "    os.makedirs('submissions')\n",
        "\n",
        "print(submission_path)\n",
        "submission.to_csv('data/sub.csv', index=True)"
      ],
      "execution_count": null,
      "outputs": []
    },
    {
      "cell_type": "code",
      "metadata": {
        "id": "-uB5vDBIZ4aL",
        "colab": {
          "base_uri": "https://localhost:8080/",
          "height": 402
        },
        "outputId": "6db57738-d269-49fa-8b96-02d2e5636627"
      },
      "source": [
        "submission = submission.reset_index().rename({'index':'client_id'},axis=1)\n",
        "submission"
      ],
      "execution_count": null,
      "outputs": [
        {
          "output_type": "execute_result",
          "data": {
            "text/html": [
              "<div>\n",
              "<style scoped>\n",
              "    .dataframe tbody tr th:only-of-type {\n",
              "        vertical-align: middle;\n",
              "    }\n",
              "\n",
              "    .dataframe tbody tr th {\n",
              "        vertical-align: top;\n",
              "    }\n",
              "\n",
              "    .dataframe thead th {\n",
              "        text-align: right;\n",
              "    }\n",
              "</style>\n",
              "<table border=\"1\" class=\"dataframe\">\n",
              "  <thead>\n",
              "    <tr style=\"text-align: right;\">\n",
              "      <th></th>\n",
              "      <th>client_id</th>\n",
              "      <th>bins</th>\n",
              "    </tr>\n",
              "  </thead>\n",
              "  <tbody>\n",
              "    <tr>\n",
              "      <th>0</th>\n",
              "      <td>0</td>\n",
              "      <td>2.0</td>\n",
              "    </tr>\n",
              "    <tr>\n",
              "      <th>1</th>\n",
              "      <td>1</td>\n",
              "      <td>1.0</td>\n",
              "    </tr>\n",
              "    <tr>\n",
              "      <th>2</th>\n",
              "      <td>2</td>\n",
              "      <td>0.0</td>\n",
              "    </tr>\n",
              "    <tr>\n",
              "      <th>3</th>\n",
              "      <td>3</td>\n",
              "      <td>0.0</td>\n",
              "    </tr>\n",
              "    <tr>\n",
              "      <th>4</th>\n",
              "      <td>5</td>\n",
              "      <td>1.0</td>\n",
              "    </tr>\n",
              "    <tr>\n",
              "      <th>...</th>\n",
              "      <td>...</td>\n",
              "      <td>...</td>\n",
              "    </tr>\n",
              "    <tr>\n",
              "      <th>19995</th>\n",
              "      <td>32757</td>\n",
              "      <td>3.0</td>\n",
              "    </tr>\n",
              "    <tr>\n",
              "      <th>19996</th>\n",
              "      <td>32758</td>\n",
              "      <td>2.0</td>\n",
              "    </tr>\n",
              "    <tr>\n",
              "      <th>19997</th>\n",
              "      <td>32762</td>\n",
              "      <td>2.0</td>\n",
              "    </tr>\n",
              "    <tr>\n",
              "      <th>19998</th>\n",
              "      <td>32764</td>\n",
              "      <td>1.0</td>\n",
              "    </tr>\n",
              "    <tr>\n",
              "      <th>19999</th>\n",
              "      <td>32765</td>\n",
              "      <td>0.0</td>\n",
              "    </tr>\n",
              "  </tbody>\n",
              "</table>\n",
              "<p>20000 rows × 2 columns</p>\n",
              "</div>"
            ],
            "text/plain": [
              "       client_id  bins\n",
              "0              0   2.0\n",
              "1              1   1.0\n",
              "2              2   0.0\n",
              "3              3   0.0\n",
              "4              5   1.0\n",
              "...          ...   ...\n",
              "19995      32757   3.0\n",
              "19996      32758   2.0\n",
              "19997      32762   2.0\n",
              "19998      32764   1.0\n",
              "19999      32765   0.0\n",
              "\n",
              "[20000 rows x 2 columns]"
            ]
          },
          "metadata": {
            "tags": []
          },
          "execution_count": 93
        }
      ]
    }
  ]
}